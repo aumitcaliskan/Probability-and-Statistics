{
 "cells": [
  {
   "cell_type": "code",
   "execution_count": 43,
   "metadata": {},
   "outputs": [],
   "source": [
    "def rmse(gercek,tahmin):\n",
    "    fark_kare = []\n",
    "    toplam = []\n",
    "    for i in range(len(gercek)):\n",
    "        fark_kare.append((tahmin[i] - gercek[i])**2)\n",
    "    toplam = sum(fark_kare)\n",
    "    sonuc = toplam/len(gercek)\n",
    "    print(fark_kare)\n",
    "    return sonuc**0.5    "
   ]
  },
  {
   "cell_type": "code",
   "execution_count": 44,
   "metadata": {},
   "outputs": [
    {
     "name": "stdout",
     "output_type": "stream",
     "text": [
      "[25, 225, 81, 49, 6400]\n"
     ]
    },
    {
     "data": {
      "text/plain": [
       "36.823905279043935"
      ]
     },
     "execution_count": 44,
     "metadata": {},
     "output_type": "execute_result"
    }
   ],
   "source": [
    "rmse(gercek_değerler, tahmini_değerler)"
   ]
  },
  {
   "cell_type": "code",
   "execution_count": null,
   "metadata": {},
   "outputs": [],
   "source": []
  },
  {
   "cell_type": "code",
   "execution_count": 40,
   "metadata": {},
   "outputs": [],
   "source": [
    "def mse(gercek,tahmin):\n",
    "    fark = []\n",
    "    toplam = []\n",
    "    for i in range(len(gercek)):\n",
    "        fark.append(np.abs(tahmin[i] -gercek[i]))\n",
    "    toplam = sum(fark)\n",
    "    sonuc = toplam/len(gercek)\n",
    "    print(fark)\n",
    "    return sonuc  "
   ]
  },
  {
   "cell_type": "code",
   "execution_count": 41,
   "metadata": {},
   "outputs": [
    {
     "name": "stdout",
     "output_type": "stream",
     "text": [
      "[5, 15, 9, 7, 80]\n"
     ]
    },
    {
     "data": {
      "text/plain": [
       "23.2"
      ]
     },
     "execution_count": 41,
     "metadata": {},
     "output_type": "execute_result"
    }
   ],
   "source": [
    "mse(gercek_değerler, tahmini_değerler)"
   ]
  },
  {
   "cell_type": "code",
   "execution_count": 45,
   "metadata": {},
   "outputs": [],
   "source": [
    "# aralarındaki fark outlier. farklar [5,15,9,7,80]. 80 outlier. rmse outlier çok hassas."
   ]
  },
  {
   "cell_type": "code",
   "execution_count": null,
   "metadata": {},
   "outputs": [],
   "source": []
  },
  {
   "cell_type": "code",
   "execution_count": 60,
   "metadata": {},
   "outputs": [],
   "source": [
    "def rmse_short(gercek,tahmin):\n",
    "    return (np.sum([(tahmin[i] - gercek[i])**2 for i in range(len(gercek))])/len(gercek))**0.5"
   ]
  },
  {
   "cell_type": "code",
   "execution_count": 61,
   "metadata": {},
   "outputs": [
    {
     "data": {
      "text/plain": [
       "36.823905279043935"
      ]
     },
     "execution_count": 61,
     "metadata": {},
     "output_type": "execute_result"
    }
   ],
   "source": [
    "rmse_short(gercek_değerler, tahmini_değerler)"
   ]
  },
  {
   "cell_type": "code",
   "execution_count": null,
   "metadata": {},
   "outputs": [],
   "source": []
  }
 ],
 "metadata": {
  "kernelspec": {
   "display_name": "Python 3",
   "language": "python",
   "name": "python3"
  },
  "language_info": {
   "codemirror_mode": {
    "name": "ipython",
    "version": 3
   },
   "file_extension": ".py",
   "mimetype": "text/x-python",
   "name": "python",
   "nbconvert_exporter": "python",
   "pygments_lexer": "ipython3",
   "version": "3.8.5"
  }
 },
 "nbformat": 4,
 "nbformat_minor": 4
}
