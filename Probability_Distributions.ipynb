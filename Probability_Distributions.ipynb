{
 "cells": [
  {
   "cell_type": "code",
   "execution_count": 1,
   "metadata": {},
   "outputs": [],
   "source": [
    "import numpy as np\n",
    "import scipy.stats as scs\n",
    "import matplotlib.pyplot as plt\n",
    "from ipywidgets import interact"
   ]
  },
  {
   "cell_type": "code",
   "execution_count": 2,
   "metadata": {},
   "outputs": [
    {
     "data": {
      "application/vnd.jupyter.widget-view+json": {
       "model_id": "4070597315a94606b47f915454144f14",
       "version_major": 2,
       "version_minor": 0
      },
      "text/plain": [
       "interactive(children=(FloatSlider(value=0.0, description='mu', max=1.0, min=-1.0), FloatSlider(value=1.0, desc…"
      ]
     },
     "metadata": {},
     "output_type": "display_data"
    }
   ],
   "source": [
    "@interact(mu=(-1.0,1.0,0.1), sigma=(0.2, 2.0, 0.1))\n",
    "def normal_dagilim(mu=0.0, sigma=1.0):\n",
    "    x = np.linspace(-5, 5., 1000)\n",
    "#     lamda = 1.0\n",
    "    expon = scs.distributions.norm(mu, sigma).pdf(x)\n",
    "    expon1 = scs.distributions.norm(0., 1.).pdf(x)\n",
    "    plt.plot(x, expon, label=f'$\\mu={mu}, \\sigma= {sigma}$')\n",
    "    plt.plot(x, expon1, label='$\\mu=0.0, \\sigma=1.0$')\n",
    "    plt.legend()\n",
    "    \n",
    "    plt.xlim(-5, 5.)\n",
    "    plt.ylim(-0.1, 2.)"
   ]
  },
  {
   "cell_type": "code",
   "execution_count": 3,
   "metadata": {},
   "outputs": [
    {
     "data": {
      "application/vnd.jupyter.widget-view+json": {
       "model_id": "b683680ef18a48bea2afc2085efd90d4",
       "version_major": 2,
       "version_minor": 0
      },
      "text/plain": [
       "interactive(children=(FloatSlider(value=1.0, description='lamda', max=2.0, min=0.1), Output()), _dom_classes=(…"
      ]
     },
     "metadata": {},
     "output_type": "display_data"
    }
   ],
   "source": [
    "@interact\n",
    "def ustel_dagilim(lamda=(0.1, 2.0, 0.1)):\n",
    "    x = np.linspace(0.001, 10., 1000)\n",
    "#     lamda = 1.0\n",
    "    expon = scs.distributions.expon(0., lamda).pdf(x)\n",
    "    expon1 = scs.distributions.expon(0., 1.).pdf(x)\n",
    "    plt.plot(x, expon, label=f'$\\lambda = {lamda}$')\n",
    "    plt.plot(x, expon1, label='$\\lambda =1.0$')\n",
    "    plt.legend()\n",
    "    \n",
    "    plt.xlim(-0.1, 5.)\n",
    "    plt.ylim(-0.1, 2.)"
   ]
  },
  {
   "cell_type": "code",
   "execution_count": 4,
   "metadata": {},
   "outputs": [
    {
     "data": {
      "application/vnd.jupyter.widget-view+json": {
       "model_id": "e3468a762c9a48da99e6fe9ba798e6ba",
       "version_major": 2,
       "version_minor": 0
      },
      "text/plain": [
       "interactive(children=(FloatSlider(value=0.5, description='p', max=1.0), IntSlider(value=10, description='size'…"
      ]
     },
     "metadata": {},
     "output_type": "display_data"
    }
   ],
   "source": [
    "@interact(p=(0.0,1.0,0.1), size=(1,20))\n",
    "def bino(p=0.5, size=10):\n",
    "    x = np.arange(size + 1)\n",
    "    binom = scs.distributions.binom(size, p).pmf(x)\n",
    "    plt.scatter(x, binom, label=f\"$n={size},p={p}$\")\n",
    "    plt.legend()\n",
    "    plt.ylim(-0.1, 1.1)"
   ]
  },
  {
   "cell_type": "code",
   "execution_count": 5,
   "metadata": {},
   "outputs": [
    {
     "data": {
      "application/vnd.jupyter.widget-view+json": {
       "model_id": "364a0332239c400fad33166d5d08bcdc",
       "version_major": 2,
       "version_minor": 0
      },
      "text/plain": [
       "interactive(children=(FloatSlider(value=0.5, description='p', max=1.0), IntSlider(value=10, description='size'…"
      ]
     },
     "metadata": {},
     "output_type": "display_data"
    }
   ],
   "source": [
    "@interact(p=(0.0,1.0,0.1), size=(1,20))\n",
    "def bino_empirical(p=0.5, size=10):\n",
    "    para = [0, 1]\n",
    "    x = np.random.choice(para, p=[1-p, p], size=(9000, size))\n",
    "    x = x.sum(axis=1)\n",
    "    binom = np.bincount(x)/9000                       #(x.reshape(-1,1) == np.arange(size+1).reshape(1, -1)).mean(axis=0)\n",
    "    binomt = scs.distributions.binom(size, p).pmf(np.arange(size + 1))\n",
    "    plt.scatter(np.arange(size+1), binomt, label=f\"$n={size},p={p}$\")\n",
    "    plt.scatter(np.arange(size+1), binom, label = \"experimental\")\n",
    "    plt.legend()"
   ]
  },
  {
   "cell_type": "code",
   "execution_count": 6,
   "metadata": {},
   "outputs": [
    {
     "data": {
      "application/vnd.jupyter.widget-view+json": {
       "model_id": "6687e20882144ed1bf532924d203df0e",
       "version_major": 2,
       "version_minor": 0
      },
      "text/plain": [
       "interactive(children=(IntSlider(value=2, description='df', max=50, min=1), Output()), _dom_classes=('widget-in…"
      ]
     },
     "metadata": {},
     "output_type": "display_data"
    }
   ],
   "source": [
    "@interact(df=(1,50,1))\n",
    "def chi(df=2):\n",
    "    x = np.linspace(0, 50, 1000)\n",
    "    chis = scs.distributions.chi2(df).pdf(x)\n",
    "    chis2 = scs.distributions.chi2(2).pdf(x)\n",
    "    \n",
    "    plt.plot(x, chis, label=f\"$df={df}$\")\n",
    "    plt.plot(x, chis2, label=\"$df=2$\")\n",
    "    plt.legend()"
   ]
  },
  {
   "cell_type": "code",
   "execution_count": 7,
   "metadata": {},
   "outputs": [
    {
     "data": {
      "application/vnd.jupyter.widget-view+json": {
       "model_id": "f32438ac2a1f4bcabc7a153f558bd329",
       "version_major": 2,
       "version_minor": 0
      },
      "text/plain": [
       "interactive(children=(IntSlider(value=1, description='df', max=50, min=1), Output()), _dom_classes=('widget-in…"
      ]
     },
     "metadata": {},
     "output_type": "display_data"
    }
   ],
   "source": [
    "@interact(df=(1,50,1))\n",
    "def chi_empirical(df=1):\n",
    "    X = np.random.randn(90000, df)\n",
    "    x = np.linspace(0, 50, 1000)\n",
    "    chis = scs.distributions.chi2(df).pdf(x)\n",
    "    dist = (X**2).sum(axis=1)\n",
    "    plt.plot(x, chis)\n",
    "    plt.hist(dist, bins=30, density=True)"
   ]
  },
  {
   "cell_type": "code",
   "execution_count": null,
   "metadata": {},
   "outputs": [],
   "source": []
  }
 ],
 "metadata": {
  "kernelspec": {
   "display_name": "Python 3",
   "language": "python",
   "name": "python3"
  },
  "language_info": {
   "codemirror_mode": {
    "name": "ipython",
    "version": 3
   },
   "file_extension": ".py",
   "mimetype": "text/x-python",
   "name": "python",
   "nbconvert_exporter": "python",
   "pygments_lexer": "ipython3",
   "version": "3.8.5"
  }
 },
 "nbformat": 4,
 "nbformat_minor": 4
}
